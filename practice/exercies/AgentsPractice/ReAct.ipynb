{
 "cells": [
  {
   "cell_type": "code",
   "execution_count": 1,
   "id": "b48dad9a",
   "metadata": {},
   "outputs": [
    {
     "data": {
      "text/plain": [
       "<function dotenv.main.load_dotenv(dotenv_path: Union[str, ForwardRef('os.PathLike[str]'), NoneType] = None, stream: Optional[IO[str]] = None, verbose: bool = False, override: bool = False, interpolate: bool = True, encoding: Optional[str] = 'utf-8') -> bool>"
      ]
     },
     "execution_count": 1,
     "metadata": {},
     "output_type": "execute_result"
    }
   ],
   "source": [
    "from typing import Annotated, Sequence, TypedDict\n",
    "from dotenv import load_dotenv\n",
    "from langchain_core.messages import BaseMessage\n",
    "from langchain_core.messages import ToolMessage\n",
    "from langchain_core.messages import SystemMessage\n",
    "from langchain_openai import ChatOpenAI\n",
    "from langchain_core.tools import tool\n",
    "from langgraph.graph.message import add_messages\n",
    "from langgraph.graph import StateGraph,START,END\n",
    "from langgraph.prebuilt import ToolNode\n",
    "\n",
    "load_dotenv"
   ]
  },
  {
   "cell_type": "code",
   "execution_count": 2,
   "id": "696739b3",
   "metadata": {},
   "outputs": [],
   "source": [
    "class AgentState(TypedDict):\n",
    "    messages:Annotated[Sequence[BaseMessage],add_messages]\n",
    "\n"
   ]
  },
  {
   "cell_type": "code",
   "execution_count": 3,
   "id": "a7edcb21",
   "metadata": {},
   "outputs": [],
   "source": [
    "#difing tools\n",
    "\n",
    "@tool\n",
    "def add(a:int,b:int):\n",
    "    \"\"\"\"this is an addition function that adds two numbers together\"\"\"\n",
    "    return a+b\n",
    "@tool\n",
    "def subtract(a:int,b:int):\n",
    "    \"\"\"\"this is an addition function that subtracts two numbers together\"\"\"\n",
    "    return a-b\n",
    "@tool\n",
    "def multiply(a:int,b:int):\n",
    "    \"\"\"\"this is an addition function that multiply two numbers together\"\"\"\n",
    "    return a*b\n",
    "\n",
    "tools = [add]\n",
    "\n",
    "model = ChatOpenAI(model='gpt-4o-mini').bind_tools(tools)"
   ]
  },
  {
   "cell_type": "markdown",
   "id": "c9a01e86",
   "metadata": {},
   "source": [
    "### creating node"
   ]
  },
  {
   "cell_type": "code",
   "execution_count": 4,
   "id": "e4812661",
   "metadata": {},
   "outputs": [],
   "source": [
    "def model_call(state:AgentState)->AgentState:\n",
    "    system_prompt = SystemMessage(content=\"you are my ai assistant,please answer my query to the best of your ability\")\n",
    "    response = model.invoke([system_prompt]+state['messages']) \n",
    "    return {'messages':[response]}"
   ]
  },
  {
   "cell_type": "markdown",
   "id": "28786bf4",
   "metadata": {},
   "source": [
    "### defining the conditional edge function"
   ]
  },
  {
   "cell_type": "code",
   "execution_count": 5,
   "id": "55e4d851",
   "metadata": {},
   "outputs": [],
   "source": [
    "def should_continue(state:AgentState):\n",
    "    messages = state['messages']\n",
    "    last_message = messages[-1]\n",
    "    print('this is the last message :',last_message)\n",
    "    if not last_message.tool_calls:\n",
    "        return \"end_node\"\n",
    "    else:\n",
    "        return 'continue'"
   ]
  },
  {
   "cell_type": "markdown",
   "id": "2050e097",
   "metadata": {},
   "source": [
    "### lets define the graph"
   ]
  },
  {
   "cell_type": "code",
   "execution_count": 6,
   "id": "60a849af",
   "metadata": {},
   "outputs": [],
   "source": [
    "graph = StateGraph(AgentState)\n",
    "\n",
    "graph.add_node('model_call',model_call)\n",
    "\n",
    "\n",
    "#defining the toolNode\n",
    "graph.add_node('tools',ToolNode(tools=tools))\n",
    "\n",
    "#entry and ending point  and edges\n",
    "\n",
    "graph.add_edge(START,'model_call')\n",
    "\n",
    "\n",
    "graph.add_conditional_edges(\n",
    "    'model_call',\n",
    "    should_continue,\n",
    "    {\n",
    "        'end_node':END,\n",
    "        'continue':'tools'\n",
    "    }\n",
    ")\n",
    "\n",
    "graph.add_edge('tools','model_call')\n",
    "\n",
    "agent = graph.compile()"
   ]
  },
  {
   "cell_type": "code",
   "execution_count": 7,
   "id": "7f418f5e",
   "metadata": {},
   "outputs": [
    {
     "data": {
      "image/png": "[encoded data removed]",
      "text/plain": [
       "<IPython.core.display.Image object>"
      ]
     },
     "metadata": {},
     "output_type": "display_data"
    }
   ],
   "source": [
    "from IPython.display import display , Image\n",
    "\n",
    "display(Image(agent.get_graph().draw_mermaid_png()))"
   ]
  },
  {
   "cell_type": "code",
   "execution_count": 8,
   "id": "a9ce8cca",
   "metadata": {},
   "outputs": [],
   "source": [
    "def print_stream(stream):\n",
    "    for s in stream:\n",
    "        message = s['messages'][-1]\n",
    "        if isinstance(message,tuple):\n",
    "            print(message)\n",
    "        else:\n",
    "            message.pretty_print()\n"
   ]
  },
  {
   "cell_type": "code",
   "execution_count": 9,
   "id": "fe86621c",
   "metadata": {},
   "outputs": [
    {
     "name": "stdout",
     "output_type": "stream",
     "text": [
      "================================\u001b[1m Human Message \u001b[0m=================================\n",
      "\n",
      "add 3+4+90,then again add 5 with it,multiply the result with 2 and subtract by 10\n"
     ]
    },
    {
     "name": "stdout",
     "output_type": "stream",
     "text": [
      "this is the last message : content='' additional_kwargs={'tool_calls': [{'id': 'call_jYWANxlabN47M0LuOUZwGDq0', 'function': {'arguments': '{\"a\": 3, \"b\": 4}', 'name': 'add'}, 'type': 'function'}, {'id': 'call_pWUToOxXmmqki68RvvQcvue6', 'function': {'arguments': '{\"a\": 90, \"b\": 0}', 'name': 'add'}, 'type': 'function'}, {'id': 'call_n2BEjyHTIOsj52lFVmLfA4NB', 'function': {'arguments': '{\"a\": 5, \"b\": 0}', 'name': 'add'}, 'type': 'function'}], 'refusal': None} response_metadata={'token_usage': {'completion_tokens': 67, 'prompt_tokens': 96, 'total_tokens': 163, 'completion_tokens_details': {'accepted_prediction_tokens': 0, 'audio_tokens': 0, 'reasoning_tokens': 0, 'rejected_prediction_tokens': 0}, 'prompt_tokens_details': {'audio_tokens': 0, 'cached_tokens': 0}}, 'model_name': 'gpt-4o-mini-2024-07-18', 'system_fingerprint': 'fp_34a54ae93c', 'id': 'chatcmpl-BqEcLIP5HG9ZiOIdvxIL6uR8MArrx', 'service_tier': 'default', 'finish_reason': 'tool_calls', 'logprobs': None} id='run--2052ca22-e01e-4cf5-afa1-014cefe67b54-0' tool_calls=[{'name': 'add', 'args': {'a': 3, 'b': 4}, 'id': 'call_jYWANxlabN47M0LuOUZwGDq0', 'type': 'tool_call'}, {'name': 'add', 'args': {'a': 90, 'b': 0}, 'id': 'call_pWUToOxXmmqki68RvvQcvue6', 'type': 'tool_call'}, {'name': 'add', 'args': {'a': 5, 'b': 0}, 'id': 'call_n2BEjyHTIOsj52lFVmLfA4NB', 'type': 'tool_call'}] usage_metadata={'input_tokens': 96, 'output_tokens': 67, 'total_tokens': 163, 'input_token_details': {'audio': 0, 'cache_read': 0}, 'output_token_details': {'audio': 0, 'reasoning': 0}}\n",
      "==================================\u001b[1m Ai Message \u001b[0m==================================\n",
      "Tool Calls:\n",
      "  add (call_jYWANxlabN47M0LuOUZwGDq0)\n",
      " Call ID: call_jYWANxlabN47M0LuOUZwGDq0\n",
      "  Args:\n",
      "    a: 3\n",
      "    b: 4\n",
      "  add (call_pWUToOxXmmqki68RvvQcvue6)\n",
      " Call ID: call_pWUToOxXmmqki68RvvQcvue6\n",
      "  Args:\n",
      "    a: 90\n",
      "    b: 0\n",
      "  add (call_n2BEjyHTIOsj52lFVmLfA4NB)\n",
      " Call ID: call_n2BEjyHTIOsj52lFVmLfA4NB\n",
      "  Args:\n",
      "    a: 5\n",
      "    b: 0\n",
      "=================================\u001b[1m Tool Message \u001b[0m=================================\n",
      "Name: add\n",
      "\n",
      "5\n",
      "this is the last message : content='' additional_kwargs={'tool_calls': [{'id': 'call_8IrQXkLIU6RswDRQz0LyWLQC', 'function': {'arguments': '{\"a\":7,\"b\":90}', 'name': 'add'}, 'type': 'function'}], 'refusal': None} response_metadata={'token_usage': {'completion_tokens': 17, 'prompt_tokens': 182, 'total_tokens': 199, 'completion_tokens_details': {'accepted_prediction_tokens': 0, 'audio_tokens': 0, 'reasoning_tokens': 0, 'rejected_prediction_tokens': 0}, 'prompt_tokens_details': {'audio_tokens': 0, 'cached_tokens': 0}}, 'model_name': 'gpt-4o-mini-2024-07-18', 'system_fingerprint': 'fp_34a54ae93c', 'id': 'chatcmpl-BqEcNczRyjcv7Ugn4ywVVEXExD6E7', 'service_tier': 'default', 'finish_reason': 'tool_calls', 'logprobs': None} id='run--657c5ec6-3022-4ec9-a73f-beed8035b41a-0' tool_calls=[{'name': 'add', 'args': {'a': 7, 'b': 90}, 'id': 'call_8IrQXkLIU6RswDRQz0LyWLQC', 'type': 'tool_call'}] usage_metadata={'input_tokens': 182, 'output_tokens': 17, 'total_tokens': 199, 'input_token_details': {'audio': 0, 'cache_read': 0}, 'output_token_details': {'audio': 0, 'reasoning': 0}}\n",
      "==================================\u001b[1m Ai Message \u001b[0m==================================\n",
      "Tool Calls:\n",
      "  add (call_8IrQXkLIU6RswDRQz0LyWLQC)\n",
      " Call ID: call_8IrQXkLIU6RswDRQz0LyWLQC\n",
      "  Args:\n",
      "    a: 7\n",
      "    b: 90\n",
      "=================================\u001b[1m Tool Message \u001b[0m=================================\n",
      "Name: add\n",
      "\n",
      "97\n",
      "this is the last message : content='' additional_kwargs={'tool_calls': [{'id': 'call_OSU9Xso9THKrLokvK0j4NRlQ', 'function': {'arguments': '{\"a\":97,\"b\":5}', 'name': 'add'}, 'type': 'function'}], 'refusal': None} response_metadata={'token_usage': {'completion_tokens': 17, 'prompt_tokens': 207, 'total_tokens': 224, 'completion_tokens_details': {'accepted_prediction_tokens': 0, 'audio_tokens': 0, 'reasoning_tokens': 0, 'rejected_prediction_tokens': 0}, 'prompt_tokens_details': {'audio_tokens': 0, 'cached_tokens': 0}}, 'model_name': 'gpt-4o-mini-2024-07-18', 'system_fingerprint': 'fp_34a54ae93c', 'id': 'chatcmpl-BqEcOyKb2Bf2zwLC6pVICRetcdEh7', 'service_tier': 'default', 'finish_reason': 'tool_calls', 'logprobs': None} id='run--aece6825-0040-45d3-85d2-c959f7cd17e6-0' tool_calls=[{'name': 'add', 'args': {'a': 97, 'b': 5}, 'id': 'call_OSU9Xso9THKrLokvK0j4NRlQ', 'type': 'tool_call'}] usage_metadata={'input_tokens': 207, 'output_tokens': 17, 'total_tokens': 224, 'input_token_details': {'audio': 0, 'cache_read': 0}, 'output_token_details': {'audio': 0, 'reasoning': 0}}\n",
      "==================================\u001b[1m Ai Message \u001b[0m==================================\n",
      "Tool Calls:\n",
      "  add (call_OSU9Xso9THKrLokvK0j4NRlQ)\n",
      " Call ID: call_OSU9Xso9THKrLokvK0j4NRlQ\n",
      "  Args:\n",
      "    a: 97\n",
      "    b: 5\n",
      "=================================\u001b[1m Tool Message \u001b[0m=================================\n",
      "Name: add\n",
      "\n",
      "102\n",
      "this is the last message : content='' additional_kwargs={'tool_calls': [{'id': 'call_ZDc4Pb55u6H3uJTgbDajNc0I', 'function': {'arguments': '{\"a\":102,\"b\":102}', 'name': 'add'}, 'type': 'function'}], 'refusal': None} response_metadata={'token_usage': {'completion_tokens': 17, 'prompt_tokens': 232, 'total_tokens': 249, 'completion_tokens_details': {'accepted_prediction_tokens': 0, 'audio_tokens': 0, 'reasoning_tokens': 0, 'rejected_prediction_tokens': 0}, 'prompt_tokens_details': {'audio_tokens': 0, 'cached_tokens': 0}}, 'model_name': 'gpt-4o-mini-2024-07-18', 'system_fingerprint': 'fp_34a54ae93c', 'id': 'chatcmpl-BqEckP5N6mKyiHrvqB3PrxKbekuF7', 'service_tier': 'default', 'finish_reason': 'tool_calls', 'logprobs': None} id='run--c62d8471-2269-45c8-873b-9ac52f9a4c1b-0' tool_calls=[{'name': 'add', 'args': {'a': 102, 'b': 102}, 'id': 'call_ZDc4Pb55u6H3uJTgbDajNc0I', 'type': 'tool_call'}] usage_metadata={'input_tokens': 232, 'output_tokens': 17, 'total_tokens': 249, 'input_token_details': {'audio': 0, 'cache_read': 0}, 'output_token_details': {'audio': 0, 'reasoning': 0}}\n",
      "==================================\u001b[1m Ai Message \u001b[0m==================================\n",
      "Tool Calls:\n",
      "  add (call_ZDc4Pb55u6H3uJTgbDajNc0I)\n",
      " Call ID: call_ZDc4Pb55u6H3uJTgbDajNc0I\n",
      "  Args:\n",
      "    a: 102\n",
      "    b: 102\n",
      "=================================\u001b[1m Tool Message \u001b[0m=================================\n",
      "Name: add\n",
      "\n",
      "204\n",
      "this is the last message : content='' additional_kwargs={'tool_calls': [{'id': 'call_RYcz0P44NeWBFdn4P18uxL2x', 'function': {'arguments': '{\"a\":204,\"b\":-10}', 'name': 'add'}, 'type': 'function'}], 'refusal': None} response_metadata={'token_usage': {'completion_tokens': 18, 'prompt_tokens': 257, 'total_tokens': 275, 'completion_tokens_details': {'accepted_prediction_tokens': 0, 'audio_tokens': 0, 'reasoning_tokens': 0, 'rejected_prediction_tokens': 0}, 'prompt_tokens_details': {'audio_tokens': 0, 'cached_tokens': 0}}, 'model_name': 'gpt-4o-mini-2024-07-18', 'system_fingerprint': 'fp_34a54ae93c', 'id': 'chatcmpl-BqEd5p1HPfS6PqSbZMCg697JqriaD', 'service_tier': 'default', 'finish_reason': 'tool_calls', 'logprobs': None} id='run--5934a655-e2f3-478b-b491-7b58766213e4-0' tool_calls=[{'name': 'add', 'args': {'a': 204, 'b': -10}, 'id': 'call_RYcz0P44NeWBFdn4P18uxL2x', 'type': 'tool_call'}] usage_metadata={'input_tokens': 257, 'output_tokens': 18, 'total_tokens': 275, 'input_token_details': {'audio': 0, 'cache_read': 0}, 'output_token_details': {'audio': 0, 'reasoning': 0}}\n",
      "==================================\u001b[1m Ai Message \u001b[0m==================================\n",
      "Tool Calls:\n",
      "  add (call_RYcz0P44NeWBFdn4P18uxL2x)\n",
      " Call ID: call_RYcz0P44NeWBFdn4P18uxL2x\n",
      "  Args:\n",
      "    a: 204\n",
      "    b: -10\n",
      "=================================\u001b[1m Tool Message \u001b[0m=================================\n",
      "Name: add\n",
      "\n",
      "194\n",
      "this is the last message : content='The final result after performing the calculations is 194.' additional_kwargs={'refusal': None} response_metadata={'token_usage': {'completion_tokens': 12, 'prompt_tokens': 283, 'total_tokens': 295, 'completion_tokens_details': {'accepted_prediction_tokens': 0, 'audio_tokens': 0, 'reasoning_tokens': 0, 'rejected_prediction_tokens': 0}, 'prompt_tokens_details': {'audio_tokens': 0, 'cached_tokens': 0}}, 'model_name': 'gpt-4o-mini-2024-07-18', 'system_fingerprint': 'fp_34a54ae93c', 'id': 'chatcmpl-BqEdQi7MB2lrOTDUFaKixqWmdJ4fY', 'service_tier': 'default', 'finish_reason': 'stop', 'logprobs': None} id='run--5cc577bf-1607-4289-bb95-f657acff9c44-0' usage_metadata={'input_tokens': 283, 'output_tokens': 12, 'total_tokens': 295, 'input_token_details': {'audio': 0, 'cache_read': 0}, 'output_token_details': {'audio': 0, 'reasoning': 0}}\n",
      "==================================\u001b[1m Ai Message \u001b[0m==================================\n",
      "\n",
      "The final result after performing the calculations is 194.\n"
     ]
    }
   ],
   "source": [
    "inputs = {'messages':[('user','add 3+4+90,then again add 5 with it,multiply the result with 2 and subtract by 10')]}\n",
    "\n",
    "print_stream(agent.stream(inputs,stream_mode='values'))"
   ]
  },
  {
   "cell_type": "code",
   "execution_count": null,
   "id": "4ac1138b",
   "metadata": {},
   "outputs": [],
   "source": []
  }
 ],
 "metadata": {
  "kernelspec": {
   "display_name": "Python 3",
   "language": "python",
   "name": "python3"
  },
  "language_info": {
   "codemirror_mode": {
    "name": "ipython",
    "version": 3
   },
   "file_extension": ".py",
   "mimetype": "text/x-python",
   "name": "python",
   "nbconvert_exporter": "python",
   "pygments_lexer": "ipython3",
   "version": "3.12.1"
  }
 },
 "nbformat": 4,
 "nbformat_minor": 5
}
