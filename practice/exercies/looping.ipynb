{
 "cells": [
  {
   "cell_type": "code",
   "execution_count": 1,
   "id": "eab86aeb",
   "metadata": {},
   "outputs": [
    {
     "name": "stdout",
     "output_type": "stream",
     "text": [
      "Requirement already satisfied: typing in /home/codespace/.local/lib/python3.12/site-packages (3.7.4.1)\n",
      "Requirement already satisfied: langchain in /home/codespace/.local/lib/python3.12/site-packages (0.3.26)\n",
      "Requirement already satisfied: langgraph in /home/codespace/.local/lib/python3.12/site-packages (0.5.1)\n",
      "Requirement already satisfied: langchain-core<1.0.0,>=0.3.66 in /home/codespace/.local/lib/python3.12/site-packages (from langchain) (0.3.68)\n",
      "Requirement already satisfied: langchain-text-splitters<1.0.0,>=0.3.8 in /home/codespace/.local/lib/python3.12/site-packages (from langchain) (0.3.8)\n",
      "Requirement already satisfied: langsmith>=0.1.17 in /home/codespace/.local/lib/python3.12/site-packages (from langchain) (0.4.4)\n",
      "Requirement already satisfied: pydantic<3.0.0,>=2.7.4 in /home/codespace/.local/lib/python3.12/site-packages (from langchain) (2.11.7)\n",
      "Requirement already satisfied: SQLAlchemy<3,>=1.4 in /home/codespace/.local/lib/python3.12/site-packages (from langchain) (2.0.41)\n",
      "Requirement already satisfied: requests<3,>=2 in /home/codespace/.local/lib/python3.12/site-packages (from langchain) (2.32.4)\n",
      "Requirement already satisfied: PyYAML>=5.3 in /home/codespace/.local/lib/python3.12/site-packages (from langchain) (6.0.2)\n",
      "Requirement already satisfied: tenacity!=8.4.0,<10.0.0,>=8.1.0 in /home/codespace/.local/lib/python3.12/site-packages (from langchain-core<1.0.0,>=0.3.66->langchain) (9.1.2)\n",
      "Requirement already satisfied: jsonpatch<2.0,>=1.33 in /home/codespace/.local/lib/python3.12/site-packages (from langchain-core<1.0.0,>=0.3.66->langchain) (1.33)\n",
      "Requirement already satisfied: packaging<25,>=23.2 in /home/codespace/.local/lib/python3.12/site-packages (from langchain-core<1.0.0,>=0.3.66->langchain) (24.2)\n",
      "Requirement already satisfied: typing-extensions>=4.7 in /home/codespace/.local/lib/python3.12/site-packages (from langchain-core<1.0.0,>=0.3.66->langchain) (4.14.0)\n",
      "Requirement already satisfied: jsonpointer>=1.9 in /home/codespace/.local/lib/python3.12/site-packages (from jsonpatch<2.0,>=1.33->langchain-core<1.0.0,>=0.3.66->langchain) (3.0.0)\n",
      "Requirement already satisfied: annotated-types>=0.6.0 in /home/codespace/.local/lib/python3.12/site-packages (from pydantic<3.0.0,>=2.7.4->langchain) (0.7.0)\n",
      "Requirement already satisfied: pydantic-core==2.33.2 in /home/codespace/.local/lib/python3.12/site-packages (from pydantic<3.0.0,>=2.7.4->langchain) (2.33.2)\n",
      "Requirement already satisfied: typing-inspection>=0.4.0 in /home/codespace/.local/lib/python3.12/site-packages (from pydantic<3.0.0,>=2.7.4->langchain) (0.4.1)\n",
      "Requirement already satisfied: charset_normalizer<4,>=2 in /home/codespace/.local/lib/python3.12/site-packages (from requests<3,>=2->langchain) (3.4.2)\n",
      "Requirement already satisfied: idna<4,>=2.5 in /home/codespace/.local/lib/python3.12/site-packages (from requests<3,>=2->langchain) (3.10)\n",
      "Requirement already satisfied: urllib3<3,>=1.21.1 in /home/codespace/.local/lib/python3.12/site-packages (from requests<3,>=2->langchain) (2.5.0)\n",
      "Requirement already satisfied: certifi>=2017.4.17 in /home/codespace/.local/lib/python3.12/site-packages (from requests<3,>=2->langchain) (2025.4.26)\n",
      "Requirement already satisfied: greenlet>=1 in /home/codespace/.local/lib/python3.12/site-packages (from SQLAlchemy<3,>=1.4->langchain) (3.2.3)\n",
      "Requirement already satisfied: langgraph-checkpoint<3.0.0,>=2.1.0 in /home/codespace/.local/lib/python3.12/site-packages (from langgraph) (2.1.0)\n",
      "Requirement already satisfied: langgraph-prebuilt<0.6.0,>=0.5.0 in /home/codespace/.local/lib/python3.12/site-packages (from langgraph) (0.5.2)\n",
      "Requirement already satisfied: langgraph-sdk<0.2.0,>=0.1.42 in /home/codespace/.local/lib/python3.12/site-packages (from langgraph) (0.1.72)\n",
      "Requirement already satisfied: xxhash>=3.5.0 in /home/codespace/.local/lib/python3.12/site-packages (from langgraph) (3.5.0)\n",
      "Requirement already satisfied: ormsgpack>=1.10.0 in /home/codespace/.local/lib/python3.12/site-packages (from langgraph-checkpoint<3.0.0,>=2.1.0->langgraph) (1.10.0)\n",
      "Requirement already satisfied: httpx>=0.25.2 in /home/codespace/.local/lib/python3.12/site-packages (from langgraph-sdk<0.2.0,>=0.1.42->langgraph) (0.28.1)\n",
      "Requirement already satisfied: orjson>=3.10.1 in /home/codespace/.local/lib/python3.12/site-packages (from langgraph-sdk<0.2.0,>=0.1.42->langgraph) (3.10.18)\n",
      "Requirement already satisfied: anyio in /home/codespace/.local/lib/python3.12/site-packages (from httpx>=0.25.2->langgraph-sdk<0.2.0,>=0.1.42->langgraph) (4.9.0)\n",
      "Requirement already satisfied: httpcore==1.* in /home/codespace/.local/lib/python3.12/site-packages (from httpx>=0.25.2->langgraph-sdk<0.2.0,>=0.1.42->langgraph) (1.0.9)\n",
      "Requirement already satisfied: h11>=0.16 in /home/codespace/.local/lib/python3.12/site-packages (from httpcore==1.*->httpx>=0.25.2->langgraph-sdk<0.2.0,>=0.1.42->langgraph) (0.16.0)\n",
      "Requirement already satisfied: requests-toolbelt<2.0.0,>=1.0.0 in /home/codespace/.local/lib/python3.12/site-packages (from langsmith>=0.1.17->langchain) (1.0.0)\n",
      "Requirement already satisfied: zstandard<0.24.0,>=0.23.0 in /home/codespace/.local/lib/python3.12/site-packages (from langsmith>=0.1.17->langchain) (0.23.0)\n",
      "Requirement already satisfied: sniffio>=1.1 in /home/codespace/.local/lib/python3.12/site-packages (from anyio->httpx>=0.25.2->langgraph-sdk<0.2.0,>=0.1.42->langgraph) (1.3.1)\n"
     ]
    }
   ],
   "source": [
    "!pip install typing langchain langgraph "
   ]
  },
  {
   "cell_type": "code",
   "execution_count": 2,
   "id": "087d8c45",
   "metadata": {},
   "outputs": [],
   "source": [
    "from typing import Dict, TypedDict,List\n",
    "import random\n",
    "from langgraph.graph import StateGraph,START,END   #framework that helps you design and manage the flow of tasks in your application"
   ]
  },
  {
   "cell_type": "code",
   "execution_count": 3,
   "id": "6080f846",
   "metadata": {},
   "outputs": [],
   "source": [
    "class AgentState(TypedDict):\n",
    "    \"\"\"State of the agent.\"\"\"\n",
    "    player_name: str\n",
    "    target_number:int\n",
    "    guess:List[str]\n",
    "    upper_bound:int\n",
    "    lower_bound:int\n",
    "    attempts:int\n",
    "\n",
    "\n",
    "\n"
   ]
  },
  {
   "cell_type": "code",
   "execution_count": 4,
   "id": "22f5561e",
   "metadata": {},
   "outputs": [],
   "source": [
    "def setup(state:AgentState)->AgentState:\n",
    "    \"\"\"initializing the values\"\"\"\n",
    "\n",
    "    state['upper_bound']=20\n",
    "    state['lower_bound']=1\n",
    "    state['guess']=[]\n",
    "    state['attempts']=0\n",
    "    return state\n",
    "\n",
    "def guess(state:AgentState)->AgentState:\n",
    "    \"\"\"Make a guess\"\"\"\n",
    "    guess = random.randint(state['lower_bound'],state['upper_bound'])\n",
    "    state['guess'].append(guess)\n",
    "    return state\n",
    "\n",
    "\n",
    "def reduce_bounds(state:AgentState)->AgentState:\n",
    "    if state['guess'][-1] < state['target_number']:\n",
    "        print(f'you have guessed lower {state[\"guess\"][-1]}')\n",
    "        state['lower_bound'] = state['guess'][-1] + 1\n",
    "    elif state['guess'][-1] > state['target_number']:\n",
    "        print(f'you have guessed higher {state[\"guess\"][-1]}')\n",
    "        state['upper_bound'] = state['guess'][-1] - 1\n",
    "\n",
    "    return state\n",
    "\n",
    "def decide(state:AgentState)->AgentState:\n",
    "    \"\"\"Decide whether to continue or end the game\"\"\"\n",
    "    if state['attempts']>7 or state['guess'][-1] == state['target_number']:\n",
    "        return 'END'\n",
    "\n",
    "    state['attempts'] = state['attempts']+ 1\n",
    "    print(state)\n",
    "    return 'guess_node'\n",
    "\n"
   ]
  },
  {
   "cell_type": "code",
   "execution_count": 5,
   "id": "56b7838b",
   "metadata": {},
   "outputs": [],
   "source": [
    "graph = StateGraph(AgentState)\n",
    "\n",
    "graph.add_node('setup',setup)\n",
    "graph.add_node('guess',guess)\n",
    "graph.add_node('reduce_bound',reduce_bounds)\n",
    "\n",
    "\n",
    "#add start point\n",
    "graph.add_edge(START,'setup')\n",
    "#add edges\n",
    "graph.add_edge('setup','guess')\n",
    "graph.add_edge('guess','reduce_bound')\n",
    "graph.add_conditional_edges(\n",
    "    'reduce_bound',\n",
    "    decide,\n",
    "    {\n",
    "        'END':END,\n",
    "        'guess_node':'guess'\n",
    "    }\n",
    "\n",
    ")\n",
    "\n",
    "\n",
    "app = graph.compile()"
   ]
  },
  {
   "cell_type": "code",
   "execution_count": 6,
   "id": "1590ffec",
   "metadata": {},
   "outputs": [
    {
     "data": {
      "image/png": "[encoded data removed]",
      "text/plain": [
       "<IPython.core.display.Image object>"
      ]
     },
     "metadata": {},
     "output_type": "display_data"
    }
   ],
   "source": [
    "from IPython.display import display, Image\n",
    "\n",
    "display(Image(app.get_graph().draw_mermaid_png()))"
   ]
  },
  {
   "cell_type": "code",
   "execution_count": 7,
   "id": "25574127",
   "metadata": {},
   "outputs": [
    {
     "name": "stdout",
     "output_type": "stream",
     "text": [
      "you have guessed lower 10\n",
      "{'player_name': 'John', 'target_number': 12, 'guess': [10], 'upper_bound': 20, 'lower_bound': 11, 'attempts': 1}\n"
     ]
    },
    {
     "data": {
      "text/plain": [
       "{'player_name': 'John',\n",
       " 'target_number': 12,\n",
       " 'guess': [10, 12],\n",
       " 'upper_bound': 20,\n",
       " 'lower_bound': 11,\n",
       " 'attempts': 0}"
      ]
     },
     "execution_count": 7,
     "metadata": {},
     "output_type": "execute_result"
    }
   ],
   "source": [
    "app.invoke({\n",
    "    'player_name': 'John',\n",
    "    'target_number': 12,\n",
    "    'guess': [],\n",
    "    'upper_bound': 20,\n",
    "    'lower_bound': 1,\n",
    "    'attempts': 0\n",
    "})"
   ]
  },
  {
   "cell_type": "code",
   "execution_count": null,
   "id": "4dd12eb4",
   "metadata": {},
   "outputs": [],
   "source": []
  }
 ],
 "metadata": {
  "kernelspec": {
   "display_name": "Python 3",
   "language": "python",
   "name": "python3"
  },
  "language_info": {
   "codemirror_mode": {
    "name": "ipython",
    "version": 3
   },
   "file_extension": ".py",
   "mimetype": "text/x-python",
   "name": "python",
   "nbconvert_exporter": "python",
   "pygments_lexer": "ipython3",
   "version": "3.12.1"
  }
 },
 "nbformat": 4,
 "nbformat_minor": 5
}
