{
 "cells": [
  {
   "cell_type": "code",
   "execution_count": 74,
   "id": "36c29ae2",
   "metadata": {},
   "outputs": [
    {
     "name": "stdout",
     "output_type": "stream",
     "text": [
      "Requirement already satisfied: langchain in /home/codespace/.local/lib/python3.12/site-packages (0.3.26)\n",
      "Requirement already satisfied: langgraph in /home/codespace/.local/lib/python3.12/site-packages (0.5.1)\n",
      "Requirement already satisfied: langchain-core<1.0.0,>=0.3.66 in /home/codespace/.local/lib/python3.12/site-packages (from langchain) (0.3.68)\n",
      "Requirement already satisfied: langchain-text-splitters<1.0.0,>=0.3.8 in /home/codespace/.local/lib/python3.12/site-packages (from langchain) (0.3.8)\n",
      "Requirement already satisfied: langsmith>=0.1.17 in /home/codespace/.local/lib/python3.12/site-packages (from langchain) (0.4.4)\n",
      "Requirement already satisfied: pydantic<3.0.0,>=2.7.4 in /home/codespace/.local/lib/python3.12/site-packages (from langchain) (2.11.7)\n",
      "Requirement already satisfied: SQLAlchemy<3,>=1.4 in /home/codespace/.local/lib/python3.12/site-packages (from langchain) (2.0.41)\n",
      "Requirement already satisfied: requests<3,>=2 in /home/codespace/.local/lib/python3.12/site-packages (from langchain) (2.32.4)\n",
      "Requirement already satisfied: PyYAML>=5.3 in /home/codespace/.local/lib/python3.12/site-packages (from langchain) (6.0.2)\n",
      "Requirement already satisfied: tenacity!=8.4.0,<10.0.0,>=8.1.0 in /home/codespace/.local/lib/python3.12/site-packages (from langchain-core<1.0.0,>=0.3.66->langchain) (9.1.2)\n",
      "Requirement already satisfied: jsonpatch<2.0,>=1.33 in /home/codespace/.local/lib/python3.12/site-packages (from langchain-core<1.0.0,>=0.3.66->langchain) (1.33)\n",
      "Requirement already satisfied: packaging<25,>=23.2 in /home/codespace/.local/lib/python3.12/site-packages (from langchain-core<1.0.0,>=0.3.66->langchain) (24.2)\n",
      "Requirement already satisfied: typing-extensions>=4.7 in /home/codespace/.local/lib/python3.12/site-packages (from langchain-core<1.0.0,>=0.3.66->langchain) (4.14.0)\n",
      "Requirement already satisfied: jsonpointer>=1.9 in /home/codespace/.local/lib/python3.12/site-packages (from jsonpatch<2.0,>=1.33->langchain-core<1.0.0,>=0.3.66->langchain) (3.0.0)\n",
      "Requirement already satisfied: annotated-types>=0.6.0 in /home/codespace/.local/lib/python3.12/site-packages (from pydantic<3.0.0,>=2.7.4->langchain) (0.7.0)\n",
      "Requirement already satisfied: pydantic-core==2.33.2 in /home/codespace/.local/lib/python3.12/site-packages (from pydantic<3.0.0,>=2.7.4->langchain) (2.33.2)\n",
      "Requirement already satisfied: typing-inspection>=0.4.0 in /home/codespace/.local/lib/python3.12/site-packages (from pydantic<3.0.0,>=2.7.4->langchain) (0.4.1)\n",
      "Requirement already satisfied: charset_normalizer<4,>=2 in /home/codespace/.local/lib/python3.12/site-packages (from requests<3,>=2->langchain) (3.4.2)\n",
      "Requirement already satisfied: idna<4,>=2.5 in /home/codespace/.local/lib/python3.12/site-packages (from requests<3,>=2->langchain) (3.10)\n",
      "Requirement already satisfied: urllib3<3,>=1.21.1 in /home/codespace/.local/lib/python3.12/site-packages (from requests<3,>=2->langchain) (2.5.0)\n",
      "Requirement already satisfied: certifi>=2017.4.17 in /home/codespace/.local/lib/python3.12/site-packages (from requests<3,>=2->langchain) (2025.4.26)\n",
      "Requirement already satisfied: greenlet>=1 in /home/codespace/.local/lib/python3.12/site-packages (from SQLAlchemy<3,>=1.4->langchain) (3.2.3)\n",
      "Requirement already satisfied: langgraph-checkpoint<3.0.0,>=2.1.0 in /home/codespace/.local/lib/python3.12/site-packages (from langgraph) (2.1.0)\n",
      "Requirement already satisfied: langgraph-prebuilt<0.6.0,>=0.5.0 in /home/codespace/.local/lib/python3.12/site-packages (from langgraph) (0.5.2)\n",
      "Requirement already satisfied: langgraph-sdk<0.2.0,>=0.1.42 in /home/codespace/.local/lib/python3.12/site-packages (from langgraph) (0.1.72)\n",
      "Requirement already satisfied: xxhash>=3.5.0 in /home/codespace/.local/lib/python3.12/site-packages (from langgraph) (3.5.0)\n",
      "Requirement already satisfied: ormsgpack>=1.10.0 in /home/codespace/.local/lib/python3.12/site-packages (from langgraph-checkpoint<3.0.0,>=2.1.0->langgraph) (1.10.0)\n",
      "Requirement already satisfied: httpx>=0.25.2 in /home/codespace/.local/lib/python3.12/site-packages (from langgraph-sdk<0.2.0,>=0.1.42->langgraph) (0.28.1)\n",
      "Requirement already satisfied: orjson>=3.10.1 in /home/codespace/.local/lib/python3.12/site-packages (from langgraph-sdk<0.2.0,>=0.1.42->langgraph) (3.10.18)\n",
      "Requirement already satisfied: anyio in /home/codespace/.local/lib/python3.12/site-packages (from httpx>=0.25.2->langgraph-sdk<0.2.0,>=0.1.42->langgraph) (4.9.0)\n",
      "Requirement already satisfied: httpcore==1.* in /home/codespace/.local/lib/python3.12/site-packages (from httpx>=0.25.2->langgraph-sdk<0.2.0,>=0.1.42->langgraph) (1.0.9)\n",
      "Requirement already satisfied: h11>=0.16 in /home/codespace/.local/lib/python3.12/site-packages (from httpcore==1.*->httpx>=0.25.2->langgraph-sdk<0.2.0,>=0.1.42->langgraph) (0.16.0)\n",
      "Requirement already satisfied: requests-toolbelt<2.0.0,>=1.0.0 in /home/codespace/.local/lib/python3.12/site-packages (from langsmith>=0.1.17->langchain) (1.0.0)\n",
      "Requirement already satisfied: zstandard<0.24.0,>=0.23.0 in /home/codespace/.local/lib/python3.12/site-packages (from langsmith>=0.1.17->langchain) (0.23.0)\n",
      "Requirement already satisfied: sniffio>=1.1 in /home/codespace/.local/lib/python3.12/site-packages (from anyio->httpx>=0.25.2->langgraph-sdk<0.2.0,>=0.1.42->langgraph) (1.3.1)\n"
     ]
    }
   ],
   "source": [
    "! pip install langchain langgraph"
   ]
  },
  {
   "cell_type": "code",
   "execution_count": 75,
   "id": "50a56129",
   "metadata": {},
   "outputs": [],
   "source": [
    "from typing import Dict, TypedDict\n",
    "from langgraph.graph import StateGraph ,START,END  #framework that helps you design and manage the flow of tasks in your application"
   ]
  },
  {
   "cell_type": "code",
   "execution_count": 76,
   "id": "1a3f82b3",
   "metadata": {},
   "outputs": [],
   "source": [
    "class AgentState(TypedDict):\n",
    "    number1:int\n",
    "    number2:int\n",
    "    operation1:str\n",
    "    number3:int\n",
    "    number4:int\n",
    "    operation2:str\n",
    "    final_answer:str"
   ]
  },
  {
   "cell_type": "code",
   "execution_count": 77,
   "id": "1dcd6dff",
   "metadata": {},
   "outputs": [],
   "source": [
    "def adder_node_1(state:AgentState)->AgentState:\n",
    "    state['final_answer'] = state['number1'] + state['number2']\n",
    "    return state\n",
    "\n",
    "def adder_node_2(state:AgentState)->AgentState:\n",
    "    state['final_answer'] = state['final_answer']+(state['number3'] + state['number4'])\n",
    "    return state\n",
    "\n",
    "\n",
    "def subtractor_node_1(state:AgentState)->AgentState:\n",
    "    state['final_answer'] = state['number1'] - state['number2']\n",
    "    return state\n",
    "\n",
    "def subtractor_node_2(state:AgentState)->AgentState:\n",
    "    state['final_answer'] = state['final_answer']+(state['number3'] - state['number4'])\n",
    "    return state\n",
    "\n",
    "def select_operation_1(state:AgentState)->AgentState:\n",
    "    return 'addition' if state['operation1'] == '+' else 'subtraction'\n",
    "    \n",
    "\n",
    "\n",
    "def select_operation_2(state:AgentState)->AgentState:\n",
    "    return 'addition' if state['operation2'] == '+' else 'subtraction'"
   ]
  },
  {
   "cell_type": "code",
   "execution_count": 78,
   "id": "f7466ada",
   "metadata": {},
   "outputs": [],
   "source": [
    "graph = StateGraph(AgentState)\n",
    "\n",
    "\n",
    "graph.add_node('adder_node_1',adder_node_1)\n",
    "graph.add_node('adder_node_2',adder_node_2)\n",
    "graph.add_node('subtractor_node_1',subtractor_node_1)\n",
    "graph.add_node('subtractor_node_2',subtractor_node_2)\n",
    "\n",
    "\n",
    "#adding the router nodes\n",
    "\n",
    "graph.add_node('router1',lambda state:state)\n",
    "graph.add_node('router2',lambda state:state)\n",
    "\n",
    "\n",
    "#adding the edges\n",
    "\n",
    "graph.add_edge(START,'router1')\n",
    "\n",
    "#adding conditional edges\n",
    "graph.add_conditional_edges(\n",
    "    'router1',\n",
    "    select_operation_1,\n",
    "    {\n",
    "        'addition':'adder_node_1',\n",
    "        'subtraction':'subtractor_node_1'\n",
    "    }   \n",
    ")\n",
    "\n",
    "#connecting to router2\n",
    "\n",
    "graph.add_edge('adder_node_1','router2')\n",
    "graph.add_edge('subtractor_node_1','router2')\n",
    "\n",
    "graph.add_conditional_edges(\n",
    "    'router2',\n",
    "    select_operation_2,\n",
    "    {\n",
    "        'addition': 'adder_node_2',\n",
    "        'subtraction':'subtractor_node_2'\n",
    "    }\n",
    ")\n",
    "\n",
    "# connetcting the ending points\n",
    "graph.add_edge('adder_node_2',END)\n",
    "graph.add_edge('subtractor_node_2',END)\n",
    "\n",
    "app = graph.compile()"
   ]
  },
  {
   "cell_type": "code",
   "execution_count": 79,
   "id": "38c542b0",
   "metadata": {},
   "outputs": [
    {
     "data": {
      "image/png": "[encoded data removed]",
      "text/plain": [
       "<IPython.core.display.Image object>"
      ]
     },
     "metadata": {},
     "output_type": "display_data"
    }
   ],
   "source": [
    "from IPython.display import display, Image\n",
    "\n",
    "display(Image(app.get_graph().draw_mermaid_png()))"
   ]
  },
  {
   "cell_type": "code",
   "execution_count": 80,
   "id": "18f1a66e",
   "metadata": {},
   "outputs": [
    {
     "data": {
      "text/plain": [
       "{'number1': 10,\n",
       " 'number2': 20,\n",
       " 'operation1': '+',\n",
       " 'number3': 30,\n",
       " 'number4': 40,\n",
       " 'operation2': '-',\n",
       " 'final_answer': 20}"
      ]
     },
     "execution_count": 80,
     "metadata": {},
     "output_type": "execute_result"
    }
   ],
   "source": [
    "inital_state = AgentState(number1=10,\n",
    "    number2=20,\n",
    "    operation1='+',\n",
    "    number3=30,\n",
    "    number4 =40,\n",
    "    operation2='-'\n",
    "    )\n",
    "\n",
    "app.invoke(inital_state)"
   ]
  },
  {
   "cell_type": "code",
   "execution_count": 81,
   "id": "aa824d29",
   "metadata": {},
   "outputs": [
    {
     "data": {
      "text/plain": [
       "{'number1': 10,\n",
       " 'number2': 20,\n",
       " 'operation1': '+',\n",
       " 'number3': 30,\n",
       " 'number4': 40,\n",
       " 'operation2': '-',\n",
       " 'final_answer': 20}"
      ]
     },
     "execution_count": 81,
     "metadata": {},
     "output_type": "execute_result"
    }
   ],
   "source": [
    "app.invoke({\n",
    "    'number1':10,\n",
    "    'number2':20,\n",
    "    'operation1':'+',\n",
    "    'number3':30,\n",
    "    'number4':40,\n",
    "    'operation2':'-'\n",
    "    })"
   ]
  },
  {
   "cell_type": "code",
   "execution_count": null,
   "id": "2cef14cf",
   "metadata": {},
   "outputs": [],
   "source": []
  }
 ],
 "metadata": {
  "kernelspec": {
   "display_name": "Python 3",
   "language": "python",
   "name": "python3"
  },
  "language_info": {
   "codemirror_mode": {
    "name": "ipython",
    "version": 3
   },
   "file_extension": ".py",
   "mimetype": "text/x-python",
   "name": "python",
   "nbconvert_exporter": "python",
   "pygments_lexer": "ipython3",
   "version": "3.12.1"
  }
 },
 "nbformat": 4,
 "nbformat_minor": 5
}
